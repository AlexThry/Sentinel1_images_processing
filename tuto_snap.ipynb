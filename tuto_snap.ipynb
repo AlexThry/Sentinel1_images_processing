{
 "cells": [
  {
   "attachments": {},
   "cell_type": "markdown",
   "metadata": {},
   "source": [
    "# Tutorial on the use of Graph Processing Tool using Python"
   ]
  },
  {
   "attachments": {},
   "cell_type": "markdown",
   "metadata": {},
   "source": [
    "## Introduction \n",
    "\n",
    "Following the tutorial in the README file, the objective here is to end up the processing of the last section. Thus we're going to apply a previously saved graph to a serie of images while modifying its parameters depending on the image processed - here no more than the input and output filename."
   ]
  },
  {
   "cell_type": "markdown",
   "metadata": {},
   "source": [
    "## Let's code !"
   ]
  },
  {
   "attachments": {},
   "cell_type": "markdown",
   "metadata": {},
   "source": [
    "### Library loading\n",
    "\n",
    "No more than a single library is needed here ! (Alright let's load two of them for visual comfort)"
   ]
  },
  {
   "cell_type": "code",
   "execution_count": 131,
   "metadata": {},
   "outputs": [],
   "source": [
    "import os\n",
    "import subprocess\n",
    "import tqdm"
   ]
  },
  {
   "attachments": {},
   "cell_type": "markdown",
   "metadata": {},
   "source": [
    "### User parameters"
   ]
  },
  {
   "cell_type": "code",
   "execution_count": 132,
   "metadata": {},
   "outputs": [],
   "source": [
    "# Chemin vers le dossier des images croppées\n",
    "cropDataFolder = \"./Data/subset/\"\n",
    "# Chemin vers le graphique à appliquer aux images\n",
    "orthoGraph = \"./python_test.xml\"\n",
    "# Chemin vers le dossier où sauvegarder les images orthorectifiées\n",
    "outputFolder = \"./Data/newData/\"\n",
    "# Chemin vers l'exécutable gpt\n",
    "snapExecutablePath = \"gpt\""
   ]
  },
  {
   "attachments": {},
   "cell_type": "markdown",
   "metadata": {},
   "source": [
    "### Main routine\n",
    "\n",
    "We first start to read the images to be processed and check that the output folder is existing."
   ]
  },
  {
   "cell_type": "code",
   "execution_count": 133,
   "metadata": {},
   "outputs": [],
   "source": [
    "# Read images\n",
    "listFiles = [f for f in os.listdir(cropDataFolder) if os.path.isfile(os.path.join(cropDataFolder,f)) and f.endswith('.tif')]\n",
    "\n",
    "# Create the output folder if not created\n",
    "if not os.path.isdir(outputFolder):\n",
    "    os.mkdir(outputFolder)"
   ]
  },
  {
   "attachments": {},
   "cell_type": "markdown",
   "metadata": {},
   "source": [
    "Then the major routine beggins. It consists in three steps : \n",
    "\n",
    "1. Setting the parameters\n",
    "\n",
    "We chose here to organize the parameters within a dictionnary with the parameter name as the key and the parameter value as the value (string type).\n",
    "\n",
    "2. Formatting the parameters as command line\n",
    "\n",
    "The idea in the third step is to run a shell command line calling the gpt executable. This command line accept optionnal flags including the one we are interested in : `-P`\n",
    "\n",
    "The syntax is as follows and all tied up : `-PparamName=paramValue`\n",
    "\n",
    "The executable will then replace the `${paramName}` within the .xml graph file by `paramValue`.\n",
    "\n",
    "3. Executing gpt to process the images\n",
    "\n",
    "Finally, the idea is to run the executable with `os.system()` following the syntax : `gpt graphFile options`"
   ]
  },
  {
   "cell_type": "code",
   "execution_count": 134,
   "metadata": {},
   "outputs": [
    {
     "data": {
      "text/plain": [
       "['Subset_S1A_IW_GRDH_1SDV_20230314T054402_20230314T054427_047636_05B89E_5C30.tif']"
      ]
     },
     "execution_count": 134,
     "metadata": {},
     "output_type": "execute_result"
    }
   ],
   "source": [
    "listFiles"
   ]
  },
  {
   "cell_type": "code",
   "execution_count": 135,
   "metadata": {},
   "outputs": [],
   "source": [
    "# # Initialize the dictionnary\n",
    "# params = {}\n",
    "\n",
    "# # Apply the graph on each image\n",
    "# for f in tqdm.tqdm(listFiles) :\n",
    "#     shell_cmd = f\"-PinputFile={cropDataFolder + f} -PoutputFile={outputFolder + f} \" \n",
    "#     print(f\"{snapExecutablePath} {orthoGraph} {shell_cmd}\")\n",
    "#     # Run the executable\n",
    "#     os.system(f\"{snapExecutablePath} {orthoGraph} {shell_cmd}\")\n",
    "#     pass"
   ]
  },
  {
   "cell_type": "code",
   "execution_count": 136,
   "metadata": {},
   "outputs": [
    {
     "name": "stderr",
     "output_type": "stream",
     "text": [
      "100%|██████████| 1/1 [00:00<00:00, 83.36it/s]"
     ]
    },
    {
     "name": "stdout",
     "output_type": "stream",
     "text": [
      "'C:\\Program Files\\snain\\gpt.exe' ./python_test.xml  -PinputFile=./Data/subset/Subset_S1A_IW_GRDH_1SDV_20230314T054402_20230314T054427_047636_05B89E_5C30.tif -PoutputFile=./Data/newData/Subset_S1A_IW_GRDH_1SDV_20230314T054402_20230314T054427_047636_05B89E_5C30.tif\n"
     ]
    },
    {
     "name": "stderr",
     "output_type": "stream",
     "text": [
      "\n"
     ]
    }
   ],
   "source": [
    "# Initialize the dictionnary\n",
    "params = {}\n",
    "\n",
    "# Apply the graph on each image\n",
    "for f in tqdm.tqdm(listFiles) :\n",
    "    # Set the parameters for the current file\n",
    "    params[\"inputFile\"] = cropDataFolder + f\n",
    "    params[\"outputFile\"] = outputFolder + f\n",
    "\n",
    "    # Construct the optionnal parameter command line \n",
    "    paramLine = \"\"\n",
    "    for k in params.keys():\n",
    "        paramLine += f\" -P{k}={params[k]}\"\n",
    "    \n",
    "    # Run the executable\n",
    "    shell_cmd = f\"{snapExecutablePath} {orthoGraph} {paramLine}\"\n",
    "    print(shell_cmd)\n",
    "    os.system(shell_cmd)"
   ]
  },
  {
   "attachments": {},
   "cell_type": "markdown",
   "metadata": {},
   "source": [
    "## Enjoy coding !"
   ]
  },
  {
   "cell_type": "code",
   "execution_count": 1,
   "metadata": {},
   "outputs": [
    {
     "name": "stderr",
     "output_type": "stream",
     "text": [
      "  0%|          | 0/1 [00:00<?, ?it/s]"
     ]
    },
    {
     "name": "stderr",
     "output_type": "stream",
     "text": [
      "100%|██████████| 1/1 [01:11<00:00, 71.46s/it]\n"
     ]
    }
   ],
   "source": [
    "# Créer le dossier de sortie s'il n'existe pas\n",
    "if not os.path.isdir(outputFolder):\n",
    "    os.mkdir(outputFolder)\n",
    "\n",
    "# Liste des fichiers à traiter (seulement les fichiers .tif)\n",
    "listFiles = [f for f in os.listdir(cropDataFolder) if os.path.isfile(os.path.join(cropDataFolder, f)) and f.endswith('.tif')]\n",
    "\n",
    "# Appliquer le graphique à chaque image\n",
    "for f in tqdm.tqdm(listFiles):\n",
    "    # Définir les paramètres pour le fichier actuel\n",
    "    inputFile = os.path.join(cropDataFolder, f)\n",
    "    outputFile = os.path.join(outputFolder, f)\n",
    "\n",
    "    # Exécuter la commande gpt avec les paramètres\n",
    "    cmd = [\n",
    "        snapExecutablePath,\n",
    "        orthoGraph,\n",
    "        f\"-PinputFile={inputFile}\",\n",
    "        f\"-PoutputFile={outputFile}\"\n",
    "    ]\n",
    "\n",
    "    # Convertir la liste en chaîne de commande\n",
    "    cmd_str = \" \".join(cmd)\n",
    "\n",
    "    # Exécuter la commande avec subprocess.run\n",
    "    subprocess.run(cmd_str, shell=True)\n"
   ]
  }
 ],
 "metadata": {
  "kernelspec": {
   "display_name": "Python 3",
   "language": "python",
   "name": "python3"
  },
  "language_info": {
   "codemirror_mode": {
    "name": "ipython",
    "version": 3
   },
   "file_extension": ".py",
   "mimetype": "text/x-python",
   "name": "python",
   "nbconvert_exporter": "python",
   "pygments_lexer": "ipython3",
   "version": "3.11.9"
  },
  "orig_nbformat": 4
 },
 "nbformat": 4,
 "nbformat_minor": 2
}
